{
 "cells": [
  {
   "cell_type": "code",
   "execution_count": 34,
   "metadata": {},
   "outputs": [],
   "source": [
    "## Importing ecessary libraries and datasets\n",
    "\n",
    "import torch\n",
    "import torchvision\n",
    "from torchvision.datasets import MNIST, CIFAR10, FashionMNIST\n",
    "import torchvision.transforms as transforms\n",
    "import torch.nn.functional as F\n",
    "import matplotlib.pyplot as plt\n",
    "%matplotlib inline"
   ]
  },
  {
   "cell_type": "code",
   "execution_count": 5,
   "metadata": {
    "scrolled": true
   },
   "outputs": [
    {
     "name": "stdout",
     "output_type": "stream",
     "text": [
      "Downloading http://fashion-mnist.s3-website.eu-central-1.amazonaws.com/train-images-idx3-ubyte.gz\n",
      "Downloading http://fashion-mnist.s3-website.eu-central-1.amazonaws.com/train-images-idx3-ubyte.gz to data/FashionMNIST\\raw\\train-images-idx3-ubyte.gz\n"
     ]
    },
    {
     "data": {
      "application/vnd.jupyter.widget-view+json": {
       "model_id": "e2408e7a14f2434e8961d87ed8661041",
       "version_major": 2,
       "version_minor": 0
      },
      "text/plain": [
       "HBox(children=(FloatProgress(value=0.0, max=26421880.0), HTML(value='')))"
      ]
     },
     "metadata": {},
     "output_type": "display_data"
    },
    {
     "name": "stdout",
     "output_type": "stream",
     "text": [
      "\n",
      "Extracting data/FashionMNIST\\raw\\train-images-idx3-ubyte.gz to data/FashionMNIST\\raw\n",
      "\n",
      "Downloading http://fashion-mnist.s3-website.eu-central-1.amazonaws.com/train-labels-idx1-ubyte.gz\n",
      "Downloading http://fashion-mnist.s3-website.eu-central-1.amazonaws.com/train-labels-idx1-ubyte.gz to data/FashionMNIST\\raw\\train-labels-idx1-ubyte.gz\n"
     ]
    },
    {
     "data": {
      "application/vnd.jupyter.widget-view+json": {
       "model_id": "9c9e08596ef94a8080422169377a3047",
       "version_major": 2,
       "version_minor": 0
      },
      "text/plain": [
       "HBox(children=(FloatProgress(value=0.0, max=29515.0), HTML(value='')))"
      ]
     },
     "metadata": {},
     "output_type": "display_data"
    },
    {
     "name": "stdout",
     "output_type": "stream",
     "text": [
      "\n",
      "Extracting data/FashionMNIST\\raw\\train-labels-idx1-ubyte.gz to data/FashionMNIST\\raw\n",
      "\n",
      "Downloading http://fashion-mnist.s3-website.eu-central-1.amazonaws.com/t10k-images-idx3-ubyte.gz\n",
      "Downloading http://fashion-mnist.s3-website.eu-central-1.amazonaws.com/t10k-images-idx3-ubyte.gz to data/FashionMNIST\\raw\\t10k-images-idx3-ubyte.gz\n"
     ]
    },
    {
     "data": {
      "application/vnd.jupyter.widget-view+json": {
       "model_id": "edbdac46e0494733bcf6b68ef1155ebf",
       "version_major": 2,
       "version_minor": 0
      },
      "text/plain": [
       "HBox(children=(FloatProgress(value=0.0, max=4422102.0), HTML(value='')))"
      ]
     },
     "metadata": {},
     "output_type": "display_data"
    },
    {
     "name": "stdout",
     "output_type": "stream",
     "text": [
      "\n",
      "Extracting data/FashionMNIST\\raw\\t10k-images-idx3-ubyte.gz to data/FashionMNIST\\raw\n",
      "\n",
      "Downloading http://fashion-mnist.s3-website.eu-central-1.amazonaws.com/t10k-labels-idx1-ubyte.gz\n",
      "Downloading http://fashion-mnist.s3-website.eu-central-1.amazonaws.com/t10k-labels-idx1-ubyte.gz to data/FashionMNIST\\raw\\t10k-labels-idx1-ubyte.gz\n"
     ]
    },
    {
     "data": {
      "application/vnd.jupyter.widget-view+json": {
       "model_id": "29d195bbadb6407bb01984b5f10a5cb2",
       "version_major": 2,
       "version_minor": 0
      },
      "text/plain": [
       "HBox(children=(FloatProgress(value=0.0, max=5148.0), HTML(value='')))"
      ]
     },
     "metadata": {},
     "output_type": "display_data"
    },
    {
     "name": "stdout",
     "output_type": "stream",
     "text": [
      "\n",
      "Extracting data/FashionMNIST\\raw\\t10k-labels-idx1-ubyte.gz to data/FashionMNIST\\raw\n",
      "\n",
      "Processing...\n",
      "Done!\n",
      "Downloading https://www.cs.toronto.edu/~kriz/cifar-10-python.tar.gz to data/cifar-10-python.tar.gz\n"
     ]
    },
    {
     "data": {
      "application/vnd.jupyter.widget-view+json": {
       "model_id": "e7c477d9916a447bab93c22f60e1bf94",
       "version_major": 2,
       "version_minor": 0
      },
      "text/plain": [
       "HBox(children=(FloatProgress(value=0.0, max=170498071.0), HTML(value='')))"
      ]
     },
     "metadata": {},
     "output_type": "display_data"
    },
    {
     "name": "stdout",
     "output_type": "stream",
     "text": [
      "\n",
      "Extracting data/cifar-10-python.tar.gz to data/\n",
      "Files already downloaded and verified\n"
     ]
    }
   ],
   "source": [
    "## Downloading the data\n",
    "\n",
    "mnist_train_data = MNIST(root='data/',train = True, download=True)\n",
    "mnist_test_data =  MNIST(root='data/',train = False, download=True)\n",
    "\n",
    "Fashion_train_data = FashionMNIST(root='data/',train = True, download=True)\n",
    "Fashion_test_data =  FashionMNIST(root='data/',train = False, download=True)\n",
    "\n",
    "cifar10_train_data = CIFAR10(root='data/',train = True, download=True)\n",
    "cifar10_test_data =  CIFAR10(root='data/',train = False, download=True)"
   ]
  },
  {
   "cell_type": "code",
   "execution_count": 6,
   "metadata": {},
   "outputs": [
    {
     "name": "stdout",
     "output_type": "stream",
     "text": [
      "Files already downloaded and verified\n",
      "Files already downloaded and verified\n"
     ]
    }
   ],
   "source": [
    "# Converting the downloaded data into tensor form to make it compatible with pytorch\n",
    "\n",
    "\n",
    "mnist_train_data = MNIST(root='data/',train = True, download=True, transform=transforms.ToTensor())\n",
    "mnist_test_data =  MNIST(root='data/',train = False, download=True, transform=transforms.ToTensor())\n",
    "\n",
    "Fashion_train_data = FashionMNIST(root='data/',train = True, download=True, transform=transforms.ToTensor())\n",
    "Fashion_test_data =  FashionMNIST(root='data/',train = False, download=True, transform=transforms.ToTensor())\n",
    "\n",
    "cifar10_train_data = CIFAR10(root='data/',train = True, download=True, transform=transforms.ToTensor())\n",
    "cifar10_test_data =  CIFAR10(root='data/',train = False, download=True, transform=transforms.ToTensor())"
   ]
  },
  {
   "cell_type": "code",
   "execution_count": 17,
   "metadata": {},
   "outputs": [
    {
     "name": "stdout",
     "output_type": "stream",
     "text": [
      "Mnist train data:  50000 Mnist Test data:  10000\n",
      "Fashion Mnist train data:  50000 Mnist Test data:  10000\n",
      "Cifar 10 train data:  40000 Mnist Test data:  10000\n"
     ]
    }
   ],
   "source": [
    "## Splitting the train data into Train and Validation Sets\n",
    "\n",
    "from torch.utils.data import random_split\n",
    "\n",
    "train_mnist, val_mnist = random_split(mnist_train_data, [50000, 10000])\n",
    "print(\"Mnist train data: \", len(train_mnist), \"Mnist Test data: \",len(val_mnist))\n",
    "      \n",
    "train_Fashion, val_Fashion = random_split(Fashion_train_data, [50000, 10000])\n",
    "print(\"Fashion Mnist train data: \", len(train_Fashion), \"Mnist Test data: \",len(val_Fashion))\n",
    "\n",
    "train_cifar, val_cifar = random_split(cifar10_train_data, [40000, 10000])\n",
    "print(\"Cifar 10 train data: \", len(train_cifar), \"Mnist Test data: \",len(val_cifar))\n",
    "      "
   ]
  },
  {
   "cell_type": "code",
   "execution_count": 18,
   "metadata": {},
   "outputs": [],
   "source": [
    "## Loading the 3 datasets into batches of training and validation sets\n",
    "\n",
    "\n",
    "from torch.utils.data import DataLoader\n",
    "\n",
    "batch_size = 128\n",
    "\n",
    "train_mnist_loader = DataLoader(train_mnist, batch_size, shuffle=True)\n",
    "val_mnist_loader = DataLoader(val_mnist, batch_size)\n",
    "\n",
    "train_Fashion_loader = DataLoader(train_Fashion, batch_size, shuffle=True)\n",
    "val_Fashion_loader = DataLoader(val_Fashion, batch_size)\n",
    "\n",
    "train_cifar_loader = DataLoader(train_cifar, batch_size, shuffle=True)\n",
    "val_cifar_loader = DataLoader(val_cifar, batch_size)"
   ]
  },
  {
   "cell_type": "markdown",
   "metadata": {},
   "source": [
    "# LOGISTIC REGRESSION MODEL"
   ]
  },
  {
   "cell_type": "code",
   "execution_count": 19,
   "metadata": {},
   "outputs": [],
   "source": [
    "import torch.nn as nn\n",
    "\n",
    "mnist_input_size = 28*28\n",
    "fashionMNIST_input_size = 28*28\n",
    "cifar10_input_size = 3* 32* 32\n",
    "\n",
    "num_classes = 10\n"
   ]
  },
  {
   "cell_type": "code",
   "execution_count": 36,
   "metadata": {},
   "outputs": [],
   "source": [
    "def accuracy(outputs, labels):\n",
    "    _, preds = torch.max(outputs, dim=1)\n",
    "    return torch.tensor(torch.sum(preds == labels).item() / len(preds))"
   ]
  },
  {
   "cell_type": "code",
   "execution_count": 30,
   "metadata": {},
   "outputs": [
    {
     "name": "stdout",
     "output_type": "stream",
     "text": [
      "MNIST & Fashion MNIST\n",
      "Dimensions of Weight Matrix:  torch.Size([10, 784]) \n",
      "Dimensions of Bias Matrix torch.Size([10])\n"
     ]
    }
   ],
   "source": [
    "## Creating logistic regression Model for Fashion MNIST and MNIST\n",
    "\n",
    "class MnistModel(nn.Module):\n",
    "    def __init__(self):\n",
    "        super().__init__()\n",
    "        self.linear = nn.Linear(mnist_input_size, num_classes)\n",
    "        \n",
    "    def forward(self, xb):\n",
    "        xb = xb.reshape(-1, 784)\n",
    "        out = self.linear(xb)\n",
    "        return out\n",
    "    \n",
    "    def training_step(self, batch):\n",
    "        images, labels = batch \n",
    "        out = self(images)                  # Generate predictions\n",
    "        loss = F.cross_entropy(out, labels) # Calculate loss\n",
    "        return loss\n",
    "    \n",
    "    def validation_step(self, batch):\n",
    "        images, labels = batch \n",
    "        out = self(images)                    # Generate predictions\n",
    "        loss = F.cross_entropy(out, labels)   # Calculate loss\n",
    "        acc = accuracy(out, labels)           # Calculate accuracy\n",
    "        return {'val_loss': loss, 'val_acc': acc}\n",
    "        \n",
    "    def validation_epoch_end(self, outputs):\n",
    "        batch_losses = [x['val_loss'] for x in outputs]\n",
    "        epoch_loss = torch.stack(batch_losses).mean()   # Combine losses\n",
    "        batch_accs = [x['val_acc'] for x in outputs]\n",
    "        epoch_acc = torch.stack(batch_accs).mean()      # Combine accuracies\n",
    "        return {'val_loss': epoch_loss.item(), 'val_acc': epoch_acc.item()}\n",
    "    \n",
    "    def epoch_end(self, epoch, result):\n",
    "        print(\"Epoch [{}], val_loss: {:.4f}, val_acc: {:.4f}\".format(epoch, result['val_loss'], result['val_acc']))\n",
    "        \n",
    "        \n",
    "    \n",
    "model_mnist = MnistModel()\n",
    "model_fashionMNIST = MnistModel()\n",
    "print(\"MNIST & Fashion MNIST\\nDimensions of Weight Matrix: \", model_mnist.linear.weight.shape,\"\\nDimensions of Bias Matrix\", model_mnist.linear.bias.shape)"
   ]
  },
  {
   "cell_type": "code",
   "execution_count": 31,
   "metadata": {},
   "outputs": [
    {
     "name": "stdout",
     "output_type": "stream",
     "text": [
      "CIFAR10\n",
      "Dimensions of Weight Matrix:  torch.Size([10, 3072]) \n",
      "Dimensions of Bias Matrix torch.Size([10])\n"
     ]
    }
   ],
   "source": [
    "## Creating Model for CIFAR 10\n",
    "\n",
    "class CIFAR10_Model(nn.Module):\n",
    "    def __init__(self):\n",
    "        super().__init__()\n",
    "        self.linear = nn.Linear(cifar10_input_size, num_classes)\n",
    "        \n",
    "    def forward(self, xb):\n",
    "        xb = xb.reshape(-1, cifar10_input_size)\n",
    "        out = self.linear(xb)\n",
    "        return out\n",
    "    \n",
    "    def training_step(self, batch):\n",
    "        images, labels = batch \n",
    "        out = self(images)                  # Generate predictions\n",
    "        loss = F.cross_entropy(out, labels) # Calculate loss\n",
    "        return loss\n",
    "    \n",
    "    def validation_step(self, batch):\n",
    "        images, labels = batch \n",
    "        out = self(images)                    # Generate predictions\n",
    "        loss = F.cross_entropy(out, labels)   # Calculate loss\n",
    "        acc = accuracy(out, labels)           # Calculate accuracy\n",
    "        return {'val_loss': loss, 'val_acc': acc}\n",
    "        \n",
    "    def validation_epoch_end(self, outputs):\n",
    "        batch_losses = [x['val_loss'] for x in outputs]\n",
    "        epoch_loss = torch.stack(batch_losses).mean()   # Combine losses\n",
    "        batch_accs = [x['val_acc'] for x in outputs]\n",
    "        epoch_acc = torch.stack(batch_accs).mean()      # Combine accuracies\n",
    "        return {'val_loss': epoch_loss.item(), 'val_acc': epoch_acc.item()}\n",
    "    \n",
    "    def epoch_end(self, epoch, result):\n",
    "        print(\"Epoch [{}], val_loss: {:.4f}, val_acc: {:.4f}\".format(epoch, result['val_loss'], result['val_acc']))\n",
    "        \n",
    "        \n",
    "\n",
    "model_cifar10 = CIFAR10_Model()\n",
    "print(\"CIFAR10\\nDimensions of Weight Matrix: \", model_cifar10.linear.weight.shape,\"\\nDimensions of Bias Matrix\", model_cifar10.linear.bias.shape)"
   ]
  },
  {
   "cell_type": "code",
   "execution_count": 32,
   "metadata": {},
   "outputs": [],
   "source": [
    "def fit(epochs, lr, model, train_loader, val_loader, opt_func=torch.optim.SGD):\n",
    "    optimizer = opt_func(model.parameters(), lr)\n",
    "    history = [] # for recording epoch-wise results\n",
    "    \n",
    "    for epoch in range(epochs):\n",
    "        \n",
    "        # Training Phase \n",
    "        for batch in train_loader:\n",
    "            loss = model.training_step(batch)\n",
    "            loss.backward()\n",
    "            optimizer.step()\n",
    "            optimizer.zero_grad()\n",
    "        \n",
    "        # Validation phase\n",
    "        result = evaluate(model, val_loader)\n",
    "        model.epoch_end(epoch, result)\n",
    "        history.append(result)\n",
    "\n",
    "    return history\n",
    "\n",
    "\n",
    "def evaluate(model, val_loader):\n",
    "    outputs = [model.validation_step(batch) for batch in val_loader]\n",
    "    return model.validation_epoch_end(outputs)"
   ]
  },
  {
   "cell_type": "code",
   "execution_count": 37,
   "metadata": {},
   "outputs": [
    {
     "name": "stdout",
     "output_type": "stream",
     "text": [
      "Epoch [0], val_loss: 1.6637, val_acc: 0.7168\n",
      "Epoch [1], val_loss: 1.4680, val_acc: 0.7502\n",
      "Epoch [2], val_loss: 1.3199, val_acc: 0.7750\n",
      "Epoch [3], val_loss: 1.2056, val_acc: 0.7908\n",
      "Epoch [4], val_loss: 1.1156, val_acc: 0.8030\n"
     ]
    }
   ],
   "source": [
    "## Training on MNIST Data\n",
    "\n",
    "history1 = fit(5, 0.001, model_mnist, train_mnist_loader, val_mnist_loader)"
   ]
  },
  {
   "cell_type": "code",
   "execution_count": 38,
   "metadata": {},
   "outputs": [
    {
     "name": "stdout",
     "output_type": "stream",
     "text": [
      "Epoch [0], val_loss: 1.8910, val_acc: 0.3233\n",
      "Epoch [1], val_loss: 1.5369, val_acc: 0.5415\n",
      "Epoch [2], val_loss: 1.3337, val_acc: 0.6105\n",
      "Epoch [3], val_loss: 1.2043, val_acc: 0.6447\n",
      "Epoch [4], val_loss: 1.1149, val_acc: 0.6685\n"
     ]
    }
   ],
   "source": [
    "## Training on Fashion MNIST Data\n",
    "\n",
    "history1 = fit(5, 0.001, model_mnist, train_Fashion_loader, val_Fashion_loader)"
   ]
  },
  {
   "cell_type": "code",
   "execution_count": 40,
   "metadata": {},
   "outputs": [
    {
     "name": "stdout",
     "output_type": "stream",
     "text": [
      "Epoch [0], val_loss: 2.1456, val_acc: 0.2398\n",
      "Epoch [1], val_loss: 2.0710, val_acc: 0.2720\n",
      "Epoch [2], val_loss: 2.0249, val_acc: 0.2956\n",
      "Epoch [3], val_loss: 1.9919, val_acc: 0.3123\n",
      "Epoch [4], val_loss: 1.9691, val_acc: 0.3223\n"
     ]
    }
   ],
   "source": [
    "## Training on CIFAR10 Data\n",
    "\n",
    "history1 = fit(5, 0.001, model_cifar10, train_cifar_loader, val_cifar_loader)"
   ]
  },
  {
   "cell_type": "code",
   "execution_count": null,
   "metadata": {},
   "outputs": [],
   "source": []
  }
 ],
 "metadata": {
  "kernelspec": {
   "display_name": "Python 3",
   "language": "python",
   "name": "python3"
  },
  "language_info": {
   "codemirror_mode": {
    "name": "ipython",
    "version": 3
   },
   "file_extension": ".py",
   "mimetype": "text/x-python",
   "name": "python",
   "nbconvert_exporter": "python",
   "pygments_lexer": "ipython3",
   "version": "3.6.5"
  }
 },
 "nbformat": 4,
 "nbformat_minor": 4
}
